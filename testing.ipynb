{
 "cells": [
  {
   "cell_type": "markdown",
   "metadata": {},
   "source": [
    "# S3 creation and uploaded files for fine tunning"
   ]
  },
  {
   "cell_type": "code",
   "execution_count": 1,
   "metadata": {},
   "outputs": [],
   "source": [
    "import os\n",
    "import json\n",
    "import boto3"
   ]
  },
  {
   "cell_type": "code",
   "execution_count": 2,
   "metadata": {},
   "outputs": [],
   "source": [
    "# Initialize the S3 client\n",
    "s3_client = boto3.client('s3')\n",
    "\n",
    "# Define the bucket name and local images folder\n",
    "bucket_name = 'finetunningforimagegeneration'\n",
    "IMAGES_FOLDER = 'images'\n",
    "METADATA_FILE_NAME = 'metadata.jsonl'\n",
    "METADATA_FILE_PATH = os.path.join(IMAGES_FOLDER, METADATA_FILE_NAME)"
   ]
  },
  {
   "cell_type": "code",
   "execution_count": 18,
   "metadata": {},
   "outputs": [
    {
     "name": "stdout",
     "output_type": "stream",
     "text": [
      "Bucket finetunningforimagegeneration already exists.\n"
     ]
    },
    {
     "data": {
      "text/plain": [
       "True"
      ]
     },
     "execution_count": 18,
     "metadata": {},
     "output_type": "execute_result"
    }
   ],
   "source": [
    "import boto3\n",
    "from botocore.exceptions import ClientError\n",
    "\n",
    "def create_bucket(bucket_name, region='us-east-1'):\n",
    "    # Create an S3 client\n",
    "    s3_client = boto3.client('s3', region_name=region)\n",
    "    \n",
    "    # Check if the bucket already exists\n",
    "    try:\n",
    "        s3_client.head_bucket(Bucket=bucket_name)\n",
    "        print(f'Bucket {bucket_name} already exists.')\n",
    "        return True\n",
    "    except ClientError as e:\n",
    "        error_code = e.response['Error']['Code']\n",
    "        if error_code == '404':\n",
    "            # Bucket does not exist, proceed to create it\n",
    "            pass\n",
    "        else:\n",
    "            print(f'Error checking bucket: {e}')\n",
    "            return False\n",
    "    \n",
    "    # Create the bucket\n",
    "    try:\n",
    "        if region == 'us-east-1':\n",
    "            s3_client.create_bucket(Bucket=bucket_name)\n",
    "        else:\n",
    "            s3_client.create_bucket(Bucket=bucket_name, CreateBucketConfiguration={'LocationConstraint': region})\n",
    "        print(f'Bucket {bucket_name} created successfully.')\n",
    "    except ClientError as e:\n",
    "        print(f'Error creating bucket: {e}')\n",
    "        return False\n",
    "    return True\n",
    "\n",
    "# Example usage\n",
    "bucket_name = 'finetunningforimagegeneration'  # Replace with your desired bucket name\n",
    "region = 'us-east-1'  # Replace with your desired region, e.g., 'us-west-1'\n",
    "\n",
    "create_bucket(bucket_name, region)\n"
   ]
  },
  {
   "cell_type": "code",
   "execution_count": 3,
   "metadata": {},
   "outputs": [],
   "source": [
    "# Ensure the images folder exists\n",
    "if not os.path.exists(IMAGES_FOLDER):\n",
    "    print(f\"The folder {IMAGES_FOLDER} does not exist.\")\n",
    "    exit()"
   ]
  },
  {
   "cell_type": "code",
   "execution_count": 11,
   "metadata": {},
   "outputs": [],
   "source": [
    "# List all image files in the images folder\n",
    "image_files = [f for f in os.listdir(IMAGES_FOLDER) if f.endswith(('png', 'jpg', 'jpeg'))]\n",
    "\n",
    "# Load the metadata.jsonl file\n",
    "metadata = []\n",
    "with open(METADATA_FILE_PATH, 'r') as f:\n",
    "    for line in f:\n",
    "        stripped_line = line.strip()\n",
    "        if stripped_line:  # Ensure the line is not empty\n",
    "            try:\n",
    "                metadata.append(json.loads(stripped_line))\n",
    "            except json.JSONDecodeError as e:\n",
    "                print(f\"Error decoding JSON on line: {line}\")\n",
    "                print(f\"Error message: {e}\")\n",
    "                continue  # Skip lines that cannot be decoded"
   ]
  },
  {
   "cell_type": "code",
   "execution_count": 12,
   "metadata": {},
   "outputs": [],
   "source": [
    "# Function to upload a file to S3\n",
    "def upload_file_to_s3(file_path, bucket_name, object_name):\n",
    "    try:\n",
    "        s3_client.upload_file(file_path, bucket_name, object_name)\n",
    "        return f\"s3://{bucket_name}/{object_name}\"\n",
    "    except Exception as e:\n",
    "        print(f\"Error uploading {file_path}: {e}\")\n",
    "        return None"
   ]
  },
  {
   "cell_type": "code",
   "execution_count": 19,
   "metadata": {},
   "outputs": [],
   "source": [
    "# Upload images and update metadata with S3 paths\n",
    "updated_metadata = []\n",
    "\n",
    "for item in metadata:\n",
    "    image_file = item[\"image-ref\"]\n",
    "    file_path = os.path.join(IMAGES_FOLDER, image_file)\n",
    "    \n",
    "    if os.path.exists(file_path):\n",
    "        s3_path = upload_file_to_s3(file_path, bucket_name, f\"fine_tuning_images/{image_file}\")\n",
    "        if s3_path:\n",
    "            item[\"image-ref\"] = s3_path\n",
    "            updated_metadata.append(item)\n",
    "    else:\n",
    "        print(f\"File {file_path} does not exist.\")"
   ]
  },
  {
   "cell_type": "code",
   "execution_count": 20,
   "metadata": {},
   "outputs": [
    {
     "name": "stdout",
     "output_type": "stream",
     "text": [
      "All images and the updated JSONL file have been uploaded to S3 successfully.\n"
     ]
    }
   ],
   "source": [
    "# Save the updated metadata.jsonl file locally\n",
    "updated_metadata_file_path = os.path.join(IMAGES_FOLDER, 'updated_metadata.jsonl')\n",
    "with open(updated_metadata_file_path, 'w') as jsonl_file:\n",
    "    for entry in updated_metadata:\n",
    "        jsonl_file.write(json.dumps(entry) + '\\n')\n",
    "\n",
    "# Upload the updated metadata.jsonl file to S3\n",
    "upload_file_to_s3(updated_metadata_file_path, bucket_name, f\"fine_tuning_images/{os.path.basename(updated_metadata_file_path)}\")\n",
    "\n",
    "print(\"All images and the updated JSONL file have been uploaded to S3 successfully.\")\n"
   ]
  },
  {
   "cell_type": "markdown",
   "metadata": {},
   "source": [
    "# fine tunning Amazon titan imagae generation G1 model"
   ]
  },
  {
   "cell_type": "code",
   "execution_count": 51,
   "metadata": {},
   "outputs": [],
   "source": [
    "import boto3\n",
    "\n",
    "# Initialize the Bedrock client\n",
    "bedrock = boto3.client(service_name='bedrock', region_name='us-east-1')\n",
    "\n",
    "# Job details\n",
    "job_name = 'fine-tuning-titan-image-generation-job'\n",
    "model_name = 'fine-tuned-titan-image-model'\n",
    "role_arn = 'arn:aws:iam::236515146491:role/TitanImageGenerationFineTunning'  # Replace with your actual role ARN\n",
    "\n",
    "# Base model ID for the Titan Image Generation model\n",
    "base_model_id = \"**amazon.titan-image-generator-v1**\" \n",
    "\n",
    "# Training Data S3 URI\n",
    "training_data_s3_uri = \"s3://finetunningforimagegeneration/fine_tuning_images/updated_metadata.jsonl\"\n",
    "\n",
    "# Output Data S3 URI\n",
    "output_data_s3_uri = \"s3://finetunningforimagegeneration/output/\"\n",
    "\n",
    "# Number of steps based on 23 images\n",
    "num_steps = 4000  # Setting the number of steps based on AWS recommendations for 23 images\n"
   ]
  },
  {
   "cell_type": "code",
   "execution_count": 39,
   "metadata": {},
   "outputs": [],
   "source": [
    "# Hyperparameters based on AWS recommendations\n",
    "hyperparameters = {\n",
    "    \"steps\": str(num_steps),  # Number of steps\n",
    "    \"batchSize\": \"8\",         # Batch size\n",
    "    \"learningRate\": \"0.00001\" # Learning rate\n",
    "}"
   ]
  },
  {
   "cell_type": "code",
   "execution_count": 43,
   "metadata": {},
   "outputs": [
    {
     "ename": "ValidationException",
     "evalue": "An error occurred (ValidationException) when calling the CreateModelCustomizationJob operation: The provided model identifier is invalid.",
     "output_type": "error",
     "traceback": [
      "\u001b[1;31m---------------------------------------------------------------------------\u001b[0m",
      "\u001b[1;31mValidationException\u001b[0m                       Traceback (most recent call last)",
      "Cell \u001b[1;32mIn[43], line 2\u001b[0m\n\u001b[0;32m      1\u001b[0m \u001b[38;5;66;03m# Create model customization job\u001b[39;00m\n\u001b[1;32m----> 2\u001b[0m response \u001b[38;5;241m=\u001b[39m \u001b[43mbedrock\u001b[49m\u001b[38;5;241;43m.\u001b[39;49m\u001b[43mcreate_model_customization_job\u001b[49m\u001b[43m(\u001b[49m\n\u001b[0;32m      3\u001b[0m \u001b[43m    \u001b[49m\u001b[43mcustomizationType\u001b[49m\u001b[38;5;241;43m=\u001b[39;49m\u001b[38;5;124;43m\"\u001b[39;49m\u001b[38;5;124;43mFINE_TUNING\u001b[39;49m\u001b[38;5;124;43m\"\u001b[39;49m\u001b[43m,\u001b[49m\n\u001b[0;32m      4\u001b[0m \u001b[43m    \u001b[49m\u001b[43mjobName\u001b[49m\u001b[38;5;241;43m=\u001b[39;49m\u001b[43mjob_name\u001b[49m\u001b[43m,\u001b[49m\n\u001b[0;32m      5\u001b[0m \u001b[43m    \u001b[49m\u001b[43mcustomModelName\u001b[49m\u001b[38;5;241;43m=\u001b[39;49m\u001b[43mmodel_name\u001b[49m\u001b[43m,\u001b[49m\n\u001b[0;32m      6\u001b[0m \u001b[43m    \u001b[49m\u001b[43mroleArn\u001b[49m\u001b[38;5;241;43m=\u001b[39;49m\u001b[43mrole_arn\u001b[49m\u001b[43m,\u001b[49m\n\u001b[0;32m      7\u001b[0m \u001b[43m    \u001b[49m\u001b[43mbaseModelIdentifier\u001b[49m\u001b[38;5;241;43m=\u001b[39;49m\u001b[43mbase_model_id\u001b[49m\u001b[43m,\u001b[49m\n\u001b[0;32m      8\u001b[0m \u001b[43m    \u001b[49m\u001b[43mhyperParameters\u001b[49m\u001b[38;5;241;43m=\u001b[39;49m\u001b[43mhyperparameters\u001b[49m\u001b[43m,\u001b[49m\n\u001b[0;32m      9\u001b[0m \u001b[43m    \u001b[49m\u001b[43mtrainingDataConfig\u001b[49m\u001b[38;5;241;43m=\u001b[39;49m\u001b[43m{\u001b[49m\u001b[38;5;124;43m\"\u001b[39;49m\u001b[38;5;124;43ms3Uri\u001b[39;49m\u001b[38;5;124;43m\"\u001b[39;49m\u001b[43m:\u001b[49m\u001b[43m \u001b[49m\u001b[43mtraining_data_s3_uri\u001b[49m\u001b[43m}\u001b[49m\u001b[43m,\u001b[49m\n\u001b[0;32m     10\u001b[0m \u001b[43m    \u001b[49m\u001b[43moutputDataConfig\u001b[49m\u001b[38;5;241;43m=\u001b[39;49m\u001b[43m{\u001b[49m\u001b[38;5;124;43m\"\u001b[39;49m\u001b[38;5;124;43ms3Uri\u001b[39;49m\u001b[38;5;124;43m\"\u001b[39;49m\u001b[43m:\u001b[49m\u001b[43m \u001b[49m\u001b[43moutput_data_s3_uri\u001b[49m\u001b[43m}\u001b[49m\u001b[43m  \u001b[49m\u001b[38;5;66;43;03m# Output S3 path\u001b[39;49;00m\n\u001b[0;32m     11\u001b[0m \u001b[43m)\u001b[49m\n\u001b[0;32m     13\u001b[0m \u001b[38;5;28mprint\u001b[39m(\u001b[38;5;124m\"\u001b[39m\u001b[38;5;124mModel customization job created:\u001b[39m\u001b[38;5;124m\"\u001b[39m, response)\n",
      "File \u001b[1;32me:\\Projects_working\\AWS_Titan_ImageCreation\\AWSImageGenerationENV\\lib\\site-packages\\botocore\\client.py:565\u001b[0m, in \u001b[0;36mClientCreator._create_api_method.<locals>._api_call\u001b[1;34m(self, *args, **kwargs)\u001b[0m\n\u001b[0;32m    561\u001b[0m     \u001b[38;5;28;01mraise\u001b[39;00m \u001b[38;5;167;01mTypeError\u001b[39;00m(\n\u001b[0;32m    562\u001b[0m         \u001b[38;5;124mf\u001b[39m\u001b[38;5;124m\"\u001b[39m\u001b[38;5;132;01m{\u001b[39;00mpy_operation_name\u001b[38;5;132;01m}\u001b[39;00m\u001b[38;5;124m() only accepts keyword arguments.\u001b[39m\u001b[38;5;124m\"\u001b[39m\n\u001b[0;32m    563\u001b[0m     )\n\u001b[0;32m    564\u001b[0m \u001b[38;5;66;03m# The \"self\" in this scope is referring to the BaseClient.\u001b[39;00m\n\u001b[1;32m--> 565\u001b[0m \u001b[38;5;28;01mreturn\u001b[39;00m \u001b[38;5;28;43mself\u001b[39;49m\u001b[38;5;241;43m.\u001b[39;49m\u001b[43m_make_api_call\u001b[49m\u001b[43m(\u001b[49m\u001b[43moperation_name\u001b[49m\u001b[43m,\u001b[49m\u001b[43m \u001b[49m\u001b[43mkwargs\u001b[49m\u001b[43m)\u001b[49m\n",
      "File \u001b[1;32me:\\Projects_working\\AWS_Titan_ImageCreation\\AWSImageGenerationENV\\lib\\site-packages\\botocore\\client.py:1017\u001b[0m, in \u001b[0;36mBaseClient._make_api_call\u001b[1;34m(self, operation_name, api_params)\u001b[0m\n\u001b[0;32m   1013\u001b[0m     error_code \u001b[38;5;241m=\u001b[39m error_info\u001b[38;5;241m.\u001b[39mget(\u001b[38;5;124m\"\u001b[39m\u001b[38;5;124mQueryErrorCode\u001b[39m\u001b[38;5;124m\"\u001b[39m) \u001b[38;5;129;01mor\u001b[39;00m error_info\u001b[38;5;241m.\u001b[39mget(\n\u001b[0;32m   1014\u001b[0m         \u001b[38;5;124m\"\u001b[39m\u001b[38;5;124mCode\u001b[39m\u001b[38;5;124m\"\u001b[39m\n\u001b[0;32m   1015\u001b[0m     )\n\u001b[0;32m   1016\u001b[0m     error_class \u001b[38;5;241m=\u001b[39m \u001b[38;5;28mself\u001b[39m\u001b[38;5;241m.\u001b[39mexceptions\u001b[38;5;241m.\u001b[39mfrom_code(error_code)\n\u001b[1;32m-> 1017\u001b[0m     \u001b[38;5;28;01mraise\u001b[39;00m error_class(parsed_response, operation_name)\n\u001b[0;32m   1018\u001b[0m \u001b[38;5;28;01melse\u001b[39;00m:\n\u001b[0;32m   1019\u001b[0m     \u001b[38;5;28;01mreturn\u001b[39;00m parsed_response\n",
      "\u001b[1;31mValidationException\u001b[0m: An error occurred (ValidationException) when calling the CreateModelCustomizationJob operation: The provided model identifier is invalid."
     ]
    }
   ],
   "source": [
    "# Create model customization job\n",
    "response = bedrock.create_model_customization_job(\n",
    "    customizationType=\"FINE_TUNING\",\n",
    "    jobName=job_name,\n",
    "    customModelName=model_name,\n",
    "    roleArn=role_arn,\n",
    "    baseModelIdentifier=base_model_id,\n",
    "    hyperParameters=hyperparameters,\n",
    "    trainingDataConfig={\"s3Uri\": training_data_s3_uri},\n",
    "    outputDataConfig={\"s3Uri\": output_data_s3_uri}  # Output S3 path\n",
    ")\n",
    "\n",
    "print(\"Model customization job created:\", response)"
   ]
  },
  {
   "cell_type": "code",
   "execution_count": 7,
   "metadata": {},
   "outputs": [
    {
     "name": "stdout",
     "output_type": "stream",
     "text": [
      "Model customization job created: {'ResponseMetadata': {'RequestId': '35c9b428-e4d9-42fc-889c-4c077c3069ca', 'HTTPStatusCode': 201, 'HTTPHeaders': {'date': 'Tue, 30 Jul 2024 16:21:42 GMT', 'content-type': 'application/json', 'content-length': '122', 'connection': 'keep-alive', 'x-amzn-requestid': '35c9b428-e4d9-42fc-889c-4c077c3069ca'}, 'RetryAttempts': 1}, 'jobArn': 'arn:aws:bedrock:us-east-1:236515146491:model-customization-job/amazon.titan-image-generator-v1:0/ehi8czjjmgzm'}\n"
     ]
    }
   ],
   "source": [
    "import boto3\n",
    "from botocore.exceptions import ClientError\n",
    "\n",
    "# Initialize the Bedrock client\n",
    "bedrock = boto3.client('bedrock', region_name='us-east-1')\n",
    "\n",
    "# Job details\n",
    "job_name = 'fine-tuning-titan-image-generation-job11'\n",
    "model_name = 'fine_tuned_titan_image_model'\n",
    "role_arn = 'arn:aws:iam::236515146491:role/TitanImageGenerationFineTunning'  # Replace with your actual role ARN\n",
    "\n",
    "# Base model ID for the Titan Image Generation model\n",
    "base_model_id = \"amazon.titan-image-generator-v1:0\"  # Ensure this is the correct model ID\n",
    "\n",
    "# Training Data S3 URI\n",
    "training_data_s3_uri = \"s3://finetunningforimagegeneration/fine_tuning_images/updated_metadata.jsonl\"\n",
    "\n",
    "# Output Data S3 URI\n",
    "output_data_s3_uri = \"s3://finetunningforimagegeneration/output/\"\n",
    "\n",
    "# Number of steps based on 23 images\n",
    "num_steps = 4000  # Setting the number of steps based on AWS recommendations for 23 images\n",
    "\n",
    "# Hyperparameters based on AWS recommendations\n",
    "hyperparameters = {\n",
    "    \"stepCount\": str(num_steps),  # Number of steps\n",
    "    \"batchSize\": \"8\",         # Batch size\n",
    "    \"learningRate\": \"0.00001\" # Learning rate\n",
    "}\n",
    "\n",
    "# Create model customization job\n",
    "try:\n",
    "    response = bedrock.create_model_customization_job(\n",
    "        customizationType=\"FINE_TUNING\",\n",
    "        jobName=job_name,\n",
    "        customModelName=model_name,\n",
    "        roleArn=role_arn,\n",
    "        baseModelIdentifier=base_model_id,\n",
    "        hyperParameters=hyperparameters,\n",
    "        trainingDataConfig={\"s3Uri\": training_data_s3_uri},\n",
    "        outputDataConfig={\"s3Uri\": output_data_s3_uri}  # Output S3 path\n",
    "    )\n",
    "    print(\"Model customization job created:\", response)\n",
    "except ClientError as error:\n",
    "    print(\"Error creating model customization job:\", error)\n"
   ]
  },
  {
   "cell_type": "code",
   "execution_count": 1,
   "metadata": {},
   "outputs": [],
   "source": [
    "import time\n",
    "import boto3\n",
    "bedrock = boto3.client('bedrock')"
   ]
  },
  {
   "cell_type": "code",
   "execution_count": 2,
   "metadata": {},
   "outputs": [
    {
     "name": "stdout",
     "output_type": "stream",
     "text": [
      "status checking  Failed\n"
     ]
    }
   ],
   "source": [
    "status = bedrock.get_model_customization_job(jobIdentifier=\"fine-tuning-titan-image-generation-job11\")[\"status\"]\n",
    "\n",
    "print(\"status checking \", status)"
   ]
  },
  {
   "cell_type": "code",
   "execution_count": null,
   "metadata": {},
   "outputs": [],
   "source": []
  }
 ],
 "metadata": {
  "kernelspec": {
   "display_name": "Python 3",
   "language": "python",
   "name": "python3"
  },
  "language_info": {
   "codemirror_mode": {
    "name": "ipython",
    "version": 3
   },
   "file_extension": ".py",
   "mimetype": "text/x-python",
   "name": "python",
   "nbconvert_exporter": "python",
   "pygments_lexer": "ipython3",
   "version": "3.9.19"
  }
 },
 "nbformat": 4,
 "nbformat_minor": 2
}
